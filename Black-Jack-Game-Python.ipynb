{
 "cells": [
  {
   "cell_type": "markdown",
   "metadata": {
    "collapsed": true
   },
   "source": [
    "# Black Jack game in Python"
   ]
  },
  {
   "cell_type": "code",
   "execution_count": 82,
   "metadata": {},
   "outputs": [],
   "source": [
    "import random\n",
    "\n",
    "suits = ['Hearts', 'Diamonds', 'Spades', 'Clubs']\n",
    "ranks = ['Two', 'Three', 'Four', 'Five', 'Six', 'Seven', 'Eight', 'Nine', 'Ten', 'Jack', 'Queen', 'King', 'Ace']\n",
    "values = {'Two':2, 'Three':3, 'Four':4, 'Five':5, 'Six':6, 'Seven':7, 'Eight':8, 'Nine':9, 'Ten':10, 'Jack':10,\n",
    "         'Queen':10, 'King':10, 'Ace':11}\n",
    "\n",
    "playing = True"
   ]
  },
  {
   "cell_type": "markdown",
   "metadata": {},
   "source": [
    "### Class Definitions"
   ]
  },
  {
   "cell_type": "markdown",
   "metadata": {},
   "source": [
    "**Card Class**"
   ]
  },
  {
   "cell_type": "code",
   "execution_count": 83,
   "metadata": {},
   "outputs": [],
   "source": [
    "class Card:\n",
    "    \n",
    "    def __init__(self,suit,rank):\n",
    "        self.suit = suit\n",
    "        self.rank = rank\n",
    "        self.value = values[self.rank]\n",
    "    \n",
    "    def __str__(self):\n",
    "        return(f'{self.rank} of {self.suit}')"
   ]
  },
  {
   "cell_type": "markdown",
   "metadata": {},
   "source": [
    "**Deck Class**"
   ]
  },
  {
   "cell_type": "code",
   "execution_count": 84,
   "metadata": {},
   "outputs": [],
   "source": [
    "class Deck:\n",
    "    \n",
    "    def __init__(self):\n",
    "        self.deck = []  # start with an empty list\n",
    "        for suit in suits:\n",
    "            for rank in ranks:\n",
    "                self.deck.append(Card(suit,rank))\n",
    "    \n",
    "    def __str__(self):\n",
    "        return(f'The deck has {len(self.deck)} cards')\n",
    "\n",
    "    def shuffle(self):\n",
    "        random.shuffle(self.deck)\n",
    "        \n",
    "    def deal(self):\n",
    "        return(self.deck.pop(0))"
   ]
  },
  {
   "cell_type": "markdown",
   "metadata": {},
   "source": [
    "**Hand Class**"
   ]
  },
  {
   "cell_type": "code",
   "execution_count": 85,
   "metadata": {},
   "outputs": [],
   "source": [
    "class Hand:\n",
    "    def __init__(self):\n",
    "        self.cards = []  # start with an empty list as we did in the Deck class\n",
    "        self.value = 0   # start with zero value\n",
    "        self.aces = 0    # add an attribute to keep track of aces\n",
    "    \n",
    "    def add_card(self,card):\n",
    "        self.cards.append(card)\n",
    "        self.value += values[card.rank]\n",
    "        if card.rank == \"Ace\":\n",
    "            self.aces += 1\n",
    "    \n",
    "    def adjust_for_ace(self):\n",
    "        while self.value > 21 and self.aces > 0:\n",
    "            self.value = self.value - 10\n",
    "            self.aces = self.aces - 1\n",
    "            "
   ]
  },
  {
   "cell_type": "markdown",
   "metadata": {},
   "source": [
    "**Chips Class**"
   ]
  },
  {
   "cell_type": "code",
   "execution_count": 86,
   "metadata": {},
   "outputs": [],
   "source": [
    "class Chips:\n",
    "    \n",
    "    def __init__(self,total = 100):\n",
    "        self.total = total  # This can be set to a default value or supplied by a user input\n",
    "        self.bet = 0\n",
    "        \n",
    "    def win_bet(self):\n",
    "        self.total = self.total + self.bet\n",
    "        return(self.total)\n",
    "    \n",
    "    def lose_bet(self):\n",
    "        self.total = self.total - self.bet\n",
    "        return(self.total)\n",
    "    \n",
    "    def __str__(self):\n",
    "        return(f'Player has {self.total} chips')"
   ]
  },
  {
   "cell_type": "markdown",
   "metadata": {},
   "source": [
    "### Function Defintions"
   ]
  },
  {
   "cell_type": "markdown",
   "metadata": {},
   "source": [
    "**Function for taking bets**"
   ]
  },
  {
   "cell_type": "code",
   "execution_count": 87,
   "metadata": {},
   "outputs": [],
   "source": [
    "def take_bet(chips):\n",
    "    while True:\n",
    "        try: \n",
    "            chips.bet = int(input('How much chips would you like to bet?: '))\n",
    "        except ValueError:\n",
    "            print('The bet should be an integer, Please try again!!')\n",
    "        else:\n",
    "            if chips.total < chips.bet:\n",
    "                print(f'You dont have enough chips to place the bet. You currently have {player_chips.total} chips.')\n",
    "            else:\n",
    "                break"
   ]
  },
  {
   "cell_type": "markdown",
   "metadata": {},
   "source": [
    "**Function for taking hits**"
   ]
  },
  {
   "cell_type": "code",
   "execution_count": 88,
   "metadata": {},
   "outputs": [],
   "source": [
    "def take_hit(deck,hand):\n",
    "    hand.add_card(deck.deal())\n",
    "    hand.adjust_for_ace()"
   ]
  },
  {
   "cell_type": "markdown",
   "metadata": {},
   "source": [
    "**Function prompting the Player to Hit or Stand**"
   ]
  },
  {
   "cell_type": "code",
   "execution_count": 89,
   "metadata": {},
   "outputs": [],
   "source": [
    "def hit_or_stand(deck,hand):\n",
    "    global playing  # to control an upcoming while loop\n",
    "    \n",
    "    while True:\n",
    "        try:\n",
    "            user_input = input('Hit or Stand? Please enter H or S')\n",
    "        except:\n",
    "            print(\"Invalid entry, please try again.\")\n",
    "        else:\n",
    "            if user_input.upper() == 'H':\n",
    "                take_hit(deck,hand)\n",
    "            elif user_input.upper() == 'S':\n",
    "                print(\"Dealer's turn\")\n",
    "                playing = False\n",
    "        break"
   ]
  },
  {
   "cell_type": "markdown",
   "metadata": {},
   "source": [
    "**Functions to display cards**"
   ]
  },
  {
   "cell_type": "code",
   "execution_count": 90,
   "metadata": {},
   "outputs": [],
   "source": [
    "def show_some(player,dealer):\n",
    "    print('\\n')\n",
    "    print('Dealer Hand (Only one card is shown)')\n",
    "    print(dealer.cards[0])\n",
    "    print('\\n')\n",
    "    print('Player Hand')\n",
    "    for card in player.cards:\n",
    "        print(card)\n",
    "    \n",
    "def show_all(player,dealer):\n",
    "    print('\\n')\n",
    "    print('Dealer Hand')\n",
    "    for card in dealer.cards:\n",
    "        print(card)\n",
    "    print('\\n')\n",
    "    print('Player Hand')\n",
    "    for card in player.cards:\n",
    "        print(card)"
   ]
  },
  {
   "cell_type": "markdown",
   "metadata": {},
   "source": [
    "**Functions to handle Win / Loss scenarios**"
   ]
  },
  {
   "cell_type": "code",
   "execution_count": 93,
   "metadata": {},
   "outputs": [],
   "source": [
    "def player_busts(player,dealer,chips):\n",
    "    print('\\nPlayer Busted!!')\n",
    "    chips.lose_bet()\n",
    "\n",
    "def player_wins(player,dealer,chips):\n",
    "    print('\\nPlayer Wins!!')\n",
    "    chips.win_bet()\n",
    "    \n",
    "def dealer_busts(player,dealer,chips):\n",
    "    print('\\nDealer Busted. Player Wins!!')\n",
    "    chips.win_bet()\n",
    "    \n",
    "def dealer_wins(player,dealer,chips):\n",
    "    print('\\nDealer Wins!!')\n",
    "    chips.lose_bet()\n",
    "    \n",
    "def push(player,dealer):\n",
    "    print('\\nIts a Tie!!')"
   ]
  },
  {
   "cell_type": "markdown",
   "metadata": {},
   "source": [
    "### Main"
   ]
  },
  {
   "cell_type": "code",
   "execution_count": 94,
   "metadata": {},
   "outputs": [
    {
     "name": "stdout",
     "output_type": "stream",
     "text": [
      "Welcome to BLACK JACK\n",
      "Basic Blackjack Rules: The goal of blackjack is to beat the dealer's hand without going over 21.\n",
      "\n",
      "Face cards are worth 10. Ace can be worth 11 or 1. \n",
      "\n",
      "Each player starts with two cards, one of the dealer's cards is hidden until the end. \n",
      "\n",
      "To 'Hit' is to ask for another card. \n",
      "\n",
      "If you go over 21 you bust, and the dealer wins regardless of the dealer's hand.\n",
      "How many chips do you have?: 1000\n",
      "How much chips would you like to bet?: 200\n",
      "\n",
      "\n",
      "Dealer Hand (Only one card is shown)\n",
      "Jack of Diamonds\n",
      "\n",
      "\n",
      "Player Hand\n",
      "Five of Spades\n",
      "Six of Spades\n",
      "Hit or Stand? Please enter H or SH\n",
      "\n",
      "\n",
      "Dealer Hand (Only one card is shown)\n",
      "Jack of Diamonds\n",
      "\n",
      "\n",
      "Player Hand\n",
      "Five of Spades\n",
      "Six of Spades\n",
      "Jack of Spades\n",
      "Hit or Stand? Please enter H or SS\n",
      "Dealer's turn\n",
      "\n",
      "\n",
      "Dealer Hand (Only one card is shown)\n",
      "Jack of Diamonds\n",
      "\n",
      "\n",
      "Player Hand\n",
      "Five of Spades\n",
      "Six of Spades\n",
      "Jack of Spades\n",
      "\n",
      "\n",
      "Dealer Hand\n",
      "Jack of Diamonds\n",
      "Three of Spades\n",
      "Ten of Hearts\n",
      "\n",
      "\n",
      "Player Hand\n",
      "Five of Spades\n",
      "Six of Spades\n",
      "Jack of Spades\n",
      "\n",
      "Dealer Busted. Player Wins!!\n",
      "Total chips - 1200\n",
      "Woud you like to continue playing? (Y/N): Y\n",
      "You currently have 1200 chips.\n",
      "How much chips would you like to bet?: 100\n",
      "\n",
      "\n",
      "Dealer Hand (Only one card is shown)\n",
      "Four of Clubs\n",
      "\n",
      "\n",
      "Player Hand\n",
      "Nine of Diamonds\n",
      "Four of Diamonds\n",
      "Hit or Stand? Please enter H or SH\n",
      "\n",
      "\n",
      "Dealer Hand (Only one card is shown)\n",
      "Four of Clubs\n",
      "\n",
      "\n",
      "Player Hand\n",
      "Nine of Diamonds\n",
      "Four of Diamonds\n",
      "Four of Hearts\n",
      "Hit or Stand? Please enter H or SS\n",
      "Dealer's turn\n",
      "\n",
      "\n",
      "Dealer Hand (Only one card is shown)\n",
      "Four of Clubs\n",
      "\n",
      "\n",
      "Player Hand\n",
      "Nine of Diamonds\n",
      "Four of Diamonds\n",
      "Four of Hearts\n",
      "\n",
      "\n",
      "Dealer Hand\n",
      "Four of Clubs\n",
      "Queen of Diamonds\n",
      "Ten of Diamonds\n",
      "\n",
      "\n",
      "Player Hand\n",
      "Nine of Diamonds\n",
      "Four of Diamonds\n",
      "Four of Hearts\n",
      "\n",
      "Dealer Busted. Player Wins!!\n",
      "Total chips - 1300\n",
      "Woud you like to continue playing? (Y/N): N\n",
      "Thank you for playing.\n"
     ]
    }
   ],
   "source": [
    "print('Welcome to BLACK JACK')\n",
    "\n",
    "print(\"Basic Blackjack Rules: The goal of blackjack is to beat the dealer's hand without going over 21.\\n\")\n",
    "print(\"Face cards are worth 10. Ace can be worth 11 or 1. \\n\")\n",
    "print(\"Each player starts with two cards, one of the dealer's cards is hidden until the end. \\n\")\n",
    "print(\"To 'Hit' is to ask for another card. \\n\")\n",
    "print(\"If you go over 21 you bust, and the dealer wins regardless of the dealer's hand.\")\n",
    "\n",
    "turn = 0\n",
    "\n",
    "while True:\n",
    "    \n",
    "    playing = True\n",
    "    \n",
    "    # Create and shuffle the deck\n",
    "\n",
    "    deck = Deck()\n",
    "    deck.shuffle()\n",
    "    \n",
    "    #Deal 2 cards to each dealer and the player\n",
    "    \n",
    "    player_hand = Hand()\n",
    "    player_hand.add_card(deck.deal())\n",
    "    player_hand.add_card(deck.deal())\n",
    "    \n",
    "    dealer_hand = Hand()\n",
    "    dealer_hand.add_card(deck.deal())\n",
    "    dealer_hand.add_card(deck.deal())\n",
    "        \n",
    "    # Set up the Player's chips\n",
    "    \n",
    "    if turn == 0:\n",
    "        turn = turn + 1\n",
    "        while True:\n",
    "            try:\n",
    "                chips = int(input('How many chips do you have?: '))\n",
    "            except ValueError:\n",
    "                print('The chips should be an integer, Please try again!!')\n",
    "            else:\n",
    "                player_chips = Chips(chips)\n",
    "                break\n",
    "    else:\n",
    "        print(f'You currently have {player_chips.total} chips.')\n",
    "        player_chips = Chips(player_chips.total)\n",
    "    \n",
    "    # Prompt the Player for their bet\n",
    "    \n",
    "    take_bet(player_chips)\n",
    "    \n",
    "    # Show cards (but keep one dealer card hidden)\n",
    "    \n",
    "    show_some(player_hand,dealer_hand)\n",
    "    \n",
    "    while playing: \n",
    "        \n",
    "        # Prompt for Player to Hit or Stand\n",
    "        \n",
    "        hit_or_stand(deck,player_hand)\n",
    "        \n",
    "        # Show cards (but keep one dealer card hidden)\n",
    "        \n",
    "        show_some(player_hand,dealer_hand)\n",
    "        \n",
    "        # If player's hand exceeds 21, run player_busts() and break out of loop\n",
    "        \n",
    "        if player_hand.value > 21:\n",
    "            player_busts(player_hand,dealer_hand,player_chips)\n",
    "            break\n",
    "            \n",
    "        # If Player hasn't busted, play Dealer's hand until Dealer reaches 17\n",
    "        \n",
    "    if player_hand.value <= 21:\n",
    "        while dealer_hand.value < player_hand.value:\n",
    "            take_hit(deck,dealer_hand)\n",
    "\n",
    "        # Show all cards\n",
    "        \n",
    "        show_all(player_hand,dealer_hand)\n",
    "        \n",
    "        # Run different winning scenarios\n",
    "        \n",
    "        if dealer_hand.value > 21:\n",
    "            dealer_busts(player_hand,dealer_hand,player_chips)\n",
    "        elif dealer_hand.value > player_hand.value:\n",
    "            dealer_wins(player_hand,dealer_hand,player_chips)\n",
    "        elif dealer_hand.value < player_hand.value:\n",
    "            player_wins(player_hand,dealer_hand,player_chips)\n",
    "        else:\n",
    "            push(player_hand,dealer_hand)\n",
    "            \n",
    "    # Inform Player of their chips total \n",
    "        \n",
    "    print(f'Total chips - {player_chips.total}')\n",
    "    \n",
    "    # Ask to play again\n",
    "    \n",
    "    while True:\n",
    "        next_hand = input('Woud you like to continue playing? (Y/N): ')\n",
    "        if next_hand.upper() == 'Y':\n",
    "            playing = True\n",
    "            break\n",
    "        elif next_hand.upper() == 'N':\n",
    "            playing = False\n",
    "            break\n",
    "        else:\n",
    "            print(\"Invalid entry, please try again.\")\n",
    "            \n",
    "    if playing == False:\n",
    "        print('Thank you for playing.')\n",
    "        break"
   ]
  }
 ],
 "metadata": {
  "kernelspec": {
   "display_name": "Python 3",
   "language": "python",
   "name": "python3"
  },
  "language_info": {
   "codemirror_mode": {
    "name": "ipython",
    "version": 3
   },
   "file_extension": ".py",
   "mimetype": "text/x-python",
   "name": "python",
   "nbconvert_exporter": "python",
   "pygments_lexer": "ipython3",
   "version": "3.7.6"
  }
 },
 "nbformat": 4,
 "nbformat_minor": 1
}
