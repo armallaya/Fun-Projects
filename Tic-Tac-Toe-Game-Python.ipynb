{
 "cells": [
  {
   "cell_type": "markdown",
   "metadata": {},
   "source": [
    "# Tic Tac Toe game in Python"
   ]
  },
  {
   "cell_type": "markdown",
   "metadata": {},
   "source": [
    "**Function to display the Tic Tac Toe board**"
   ]
  },
  {
   "cell_type": "code",
   "execution_count": 72,
   "metadata": {},
   "outputs": [],
   "source": [
    "from IPython.display import clear_output\n",
    "\n",
    "def display_board(board):\n",
    "    \n",
    "    clear_output()\n",
    "    \n",
    "    print(' ',board[1],'|',board[2],'|',board[3] )\n",
    "    print('-------------')\n",
    "    print(' ',board[4],'|',board[5],'|',board[6] )\n",
    "    print('-------------')\n",
    "    print(' ',board[7],'|',board[8],'|',board[9] )"
   ]
  },
  {
   "cell_type": "markdown",
   "metadata": {},
   "source": [
    "**Function to take a player's input**"
   ]
  },
  {
   "cell_type": "code",
   "execution_count": 73,
   "metadata": {},
   "outputs": [],
   "source": [
    "def player_input():\n",
    "    \n",
    "    input_1 = ''\n",
    "    \n",
    "    player_1 = input(\"What is player 1's name? - \")\n",
    "    player_2 = input(\"What is player 2's name? - \")\n",
    "    \n",
    "    while input_1 not in ['X','O']:\n",
    "        \n",
    "        input_1 = input(f'Would {player_1} like to chose X or O - ').upper()\n",
    "        \n",
    "        if (input_1) == 'X':\n",
    "            input_2 = 'O'\n",
    "        else:\n",
    "            input_2 = 'X'\n",
    "        \n",
    "        if input_1 not in ['X','O']:\n",
    "            print('Invalid choice, please chose X or O')\n",
    "    \n",
    "    return {player_1:input_1,player_2:input_2}"
   ]
  },
  {
   "cell_type": "markdown",
   "metadata": {},
   "source": [
    "**Function that takes the player's name, and a desired position (number 1-9) and assigns it to the board.**"
   ]
  },
  {
   "cell_type": "code",
   "execution_count": 74,
   "metadata": {},
   "outputs": [],
   "source": [
    "def place_marker(board, player, position):\n",
    "    \n",
    "    board[position] = players[player]"
   ]
  },
  {
   "cell_type": "markdown",
   "metadata": {},
   "source": [
    "**Function that checks to see if the player whose turn is current has won or not.**"
   ]
  },
  {
   "cell_type": "code",
   "execution_count": 75,
   "metadata": {},
   "outputs": [],
   "source": [
    "def win_check(board, player):\n",
    "    \n",
    "    marker = players[player]\n",
    "        \n",
    "    if ((board[1] == board[2] == board [3] == marker) or \n",
    "        (board[4] == board[5] == board [6] == marker) or \n",
    "        (board[7] == board[8] == board [9] == marker) or \n",
    "        (board[1] == board[4] == board [7] == marker) or\n",
    "        (board[2] == board[5] == board [8] == marker) or\n",
    "        (board[3] == board[6] == board [9] == marker) or\n",
    "        (board[1] == board[5] == board [9] == marker) or\n",
    "        (board[3] == board[5] == board [7] == marker)):\n",
    "        \n",
    "        return True\n",
    "    else:\n",
    "        return False"
   ]
  },
  {
   "cell_type": "markdown",
   "metadata": {},
   "source": [
    "**Function that checks whether a space on the board is freely available.**"
   ]
  },
  {
   "cell_type": "code",
   "execution_count": 76,
   "metadata": {},
   "outputs": [],
   "source": [
    "def space_check(board, position):\n",
    "    \n",
    "    if board[position] == ' ':\n",
    "        return True\n",
    "    else:\n",
    "        return False"
   ]
  },
  {
   "cell_type": "markdown",
   "metadata": {},
   "source": [
    "**Function that checks if the board is full or not.**"
   ]
  },
  {
   "cell_type": "code",
   "execution_count": 77,
   "metadata": {},
   "outputs": [],
   "source": [
    "def full_board_check(board):\n",
    "    \n",
    "    if ' ' in board:\n",
    "        return False\n",
    "    else:\n",
    "        return True"
   ]
  },
  {
   "cell_type": "markdown",
   "metadata": {},
   "source": [
    "**Function that asks for a player's next position (as a number 1-9) and then uses the space_check function to check if it's a free position.**"
   ]
  },
  {
   "cell_type": "code",
   "execution_count": 78,
   "metadata": {},
   "outputs": [],
   "source": [
    "def player_choice(board,player):\n",
    "    \n",
    "    pos = 0\n",
    "    \n",
    "    while(type(pos) != int or pos not in range (1,10) or space_check(board,pos) == False):\n",
    "        pos = input(f'{player}, please choose a position between 1 to 9 - ')\n",
    "        \n",
    "        if pos.isdigit():\n",
    "            pos = int(pos)\n",
    "            \n",
    "            if pos not in range (1,10):\n",
    "                print('Invalid Entry, The position needs to be in range of 1 to 9. Please Try again')\n",
    "            elif space_check(board, pos) == False:\n",
    "                print('Position already filled, please try another one')\n",
    "            else:\n",
    "                return(pos)\n",
    "        else:\n",
    "            print('Invalid Entry, Please try Again')\n",
    "            "
   ]
  },
  {
   "cell_type": "markdown",
   "metadata": {},
   "source": [
    "**Function that asks the player if they want to play again or not.**"
   ]
  },
  {
   "cell_type": "code",
   "execution_count": 79,
   "metadata": {},
   "outputs": [],
   "source": [
    "def replay():\n",
    "    rep = ''\n",
    "    while rep.upper() not in ['Y','N']:\n",
    "        rep = input('Would you like to play again, (Y/N): ').upper()\n",
    "        if rep.upper() not in ['Y','N']:\n",
    "            print('Invalid entry, Please try again!!')\n",
    "    \n",
    "    if rep == 'Y':\n",
    "        return True\n",
    "    else:\n",
    "        return False"
   ]
  },
  {
   "cell_type": "markdown",
   "metadata": {
    "collapsed": true
   },
   "source": [
    "**Main**"
   ]
  },
  {
   "cell_type": "code",
   "execution_count": 80,
   "metadata": {},
   "outputs": [
    {
     "name": "stdout",
     "output_type": "stream",
     "text": [
      "  X |   | O\n",
      "-------------\n",
      "  O | O |  \n",
      "-------------\n",
      "  X | X | X\n",
      "Ron Won!!\n",
      "Would you like to play again, (Y/N): N\n",
      "Thank you Ron and Amy for playing Tic Tac Toe!\n"
     ]
    }
   ],
   "source": [
    "import time\n",
    "\n",
    "print('Welcome to Tic Tac Toe!')\n",
    "\n",
    "game_on = True\n",
    "game_over = False\n",
    "\n",
    "while game_on == True:\n",
    "    player = 0\n",
    "    board = ['#',' ',' ',' ',' ',' ',' ',' ',' ',' ']\n",
    "    players = player_input()\n",
    "    \n",
    "    player_1 = list(players.keys())[0]\n",
    "    player_2 = list(players.keys())[1]\n",
    "    \n",
    "    print(f'{player_1} is {players[player_1]} and {player_2} is {players[player_2]}')\n",
    "    print('Lets begin!!')\n",
    "    \n",
    "    time.sleep(2)\n",
    "    \n",
    "    display_board(board)\n",
    "    \n",
    "    while (game_over == False):\n",
    "        if player == 0 and full_board_check(board) == False:\n",
    "            pos = player_choice(board,player_1)\n",
    "            place_marker(board,player_1,pos)\n",
    "            display_board(board)\n",
    "            if win_check(board, player_1) == True:\n",
    "                print(f'{player_1} Won!!')\n",
    "                game_over = True\n",
    "                game_on = replay()\n",
    "            player = player + 1\n",
    "        elif player == 1 and full_board_check(board) == False:\n",
    "            pos = player_choice(board,player_2)\n",
    "            place_marker(board,player_2,pos)\n",
    "            display_board(board)\n",
    "            if win_check(board, player_2) == True:\n",
    "                print(f'{player_2} Won!!')\n",
    "                game_over = True\n",
    "                game_on = replay()\n",
    "            player = player - 1\n",
    "        else:\n",
    "            print(\"Game Over!! It's a tie!!\")\n",
    "            game_on = replay()\n",
    "            game_over = True\n",
    "    \n",
    "    if game_on == True:\n",
    "        game_over = False\n",
    "    else:\n",
    "        print(f'Thank you {player_1} and {player_2} for playing Tic Tac Toe!')\n",
    "        break"
   ]
  }
 ],
 "metadata": {
  "kernelspec": {
   "display_name": "Python 3",
   "language": "python",
   "name": "python3"
  },
  "language_info": {
   "codemirror_mode": {
    "name": "ipython",
    "version": 3
   },
   "file_extension": ".py",
   "mimetype": "text/x-python",
   "name": "python",
   "nbconvert_exporter": "python",
   "pygments_lexer": "ipython3",
   "version": "3.7.6"
  }
 },
 "nbformat": 4,
 "nbformat_minor": 1
}
